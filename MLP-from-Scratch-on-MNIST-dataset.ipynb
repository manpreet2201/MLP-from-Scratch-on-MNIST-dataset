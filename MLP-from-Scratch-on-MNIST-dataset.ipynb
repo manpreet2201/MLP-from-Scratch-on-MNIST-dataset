{
 "cells": [
  {
   "cell_type": "code",
   "execution_count": 205,
   "metadata": {
    "id": "FRGdtJNGXJ3v"
   },
   "outputs": [],
   "source": [
    "import numpy as np\n",
    "import cv2\n",
    "import matplotlib.pyplot as plt\n",
    "import pandas as pd\n",
    "from pandas import Series, DataFrame\n",
    "from keras import models, layers, optimizers, datasets, utils, losses\n",
    "from sklearn.model_selection import train_test_split\n",
    "from sklearn.linear_model import LinearRegression\n",
    "from sklearn.linear_model import Lasso, Ridge\n",
    "\n",
    "(x_train, y_train), (x_test, y_test) = datasets.mnist.load_data()\n",
    "x_train = x_train.reshape(60000, 784)/255\n",
    "x_test = x_test.reshape(10000, 784)/255\n"
   ]
  },
  {
   "cell_type": "markdown",
   "metadata": {
    "id": "i8kfJRmbPb13"
   },
   "source": [
    "Taking 1024 training and 501 testing samples"
   ]
  },
  {
   "cell_type": "code",
   "execution_count": 206,
   "metadata": {
    "id": "P6ym3P_st8vs"
   },
   "outputs": [],
   "source": [
    "x_train = x_train[:1024,:]\n",
    "xl=x_train\n",
    "x_test = x_test[:501,:]\n",
    "y_train = y_train[:1024]\n",
    "y_test=y_test[:501]"
   ]
  },
  {
   "cell_type": "markdown",
   "metadata": {
    "id": "FPd3Y1xlVqQ6"
   },
   "source": [
    "Preprocessing data"
   ]
  },
  {
   "cell_type": "code",
   "execution_count": 207,
   "metadata": {
    "colab": {
     "base_uri": "https://localhost:8080/",
     "height": 34
    },
    "id": "funMqhGTHT6h",
    "outputId": "8c7f0fd9-55e5-48b3-d00e-35c29fb2892d"
   },
   "outputs": [
    {
     "name": "stdout",
     "output_type": "stream",
     "text": [
      "[0. 0. 1. 1. 0. 1. 0. 1.]\n"
     ]
    }
   ],
   "source": [
    "yl=y_train\n",
    "y_test = y_test[:501]\n",
    "y_test_binary=np.zeros((501,8))\n",
    "test_count=0\n",
    "for y in y_test:\n",
    "  ascii_y=ord(str(y))\n",
    "  binary_y='{0:08b}'.format(ascii_y)\n",
    "  binary_y=np.array([int(str_y) for str_y in list(binary_y)])\n",
    "  y_test_binary[test_count]=binary_y\n",
    "  test_count+=1\n",
    "y_train_binary = np.zeros((1024,8))\n",
    "counter =0 \n",
    "for y in y_train:\n",
    "  ascii_y=ord(str(y))\n",
    "  binary_y='{0:08b}'.format(ascii_y)\n",
    "  binary_y=np.array([int(str_y) for str_y in list(binary_y)])\n",
    "  y_train_binary[counter]=binary_y\n",
    "  counter+=1\n",
    "print(y_train_binary[0])\n",
    "   \n",
    "\n"
   ]
  },
  {
   "cell_type": "code",
   "execution_count": 208,
   "metadata": {
    "colab": {
     "base_uri": "https://localhost:8080/",
     "height": 51
    },
    "id": "4JCOFdUTI2tN",
    "outputId": "8763b37b-98da-41f7-f66e-72c0ed5d1c33"
   },
   "outputs": [
    {
     "name": "stdout",
     "output_type": "stream",
     "text": [
      "(784, 1024)\n",
      "(8, 501)\n"
     ]
    }
   ],
   "source": [
    "#alpha = 0.01\n",
    "x_train=x_train.T\n",
    "x_test=x_test.T\n",
    "print(x_train.shape)\n",
    "x_train = np.append(x_train, [[1]*1024], axis=0)\n",
    "x_test = np.append(x_test, [[1]*501], axis=0)\n",
    "X=x_train\n",
    "y_test_binary=y_test_binary.T\n",
    "print(y_test_binary.shape)\n",
    "Y=y_train_binary.T"
   ]
  },
  {
   "cell_type": "markdown",
   "metadata": {
    "id": "XzKpIsHlVuHp"
   },
   "source": [
    "1 hidden Layer"
   ]
  },
  {
   "cell_type": "code",
   "execution_count": 202,
   "metadata": {
    "colab": {
     "base_uri": "https://localhost:8080/",
     "height": 330
    },
    "id": "V-OuDHo4dPZ0",
    "outputId": "805cbf26-19af-4668-90c3-ed72dfb2818b"
   },
   "outputs": [
    {
     "name": "stdout",
     "output_type": "stream",
     "text": [
      "(1024, 8)\n",
      "94.43359375\n"
     ]
    },
    {
     "data": {
      "text/plain": [
       "Text(0, 0.5, 'Error')"
      ]
     },
     "execution_count": 202,
     "metadata": {
      "tags": []
     },
     "output_type": "execute_result"
    },
    {
     "data": {
      "image/png": "[encoded data removed]",
      "text/plain": [
       "<Figure size 432x288 with 1 Axes>"
      ]
     },
     "metadata": {
      "needs_background": "light",
      "tags": []
     },
     "output_type": "display_data"
    }
   ],
   "source": [
    "#using 1 layer\n",
    "print(y_train_binary.shape)\n",
    "\n",
    "#model specifications\n",
    "Ni=785; Nh=100 ; No=8 ;\n",
    "\n",
    "#parameters and array intilization\n",
    "#adding a layer\n",
    "#np.random.seed(0)\n",
    "wh=np.random.randn(Nh, Ni);\n",
    "dwh= np.zeros(wh.shape)\n",
    "wo=np.random.randn(No,Nh) ;\n",
    "dwo=np.zeros(wo.shape)\n",
    "err1=np.array([])\n",
    "Ntrials=100\n",
    "for trial in range(Ntrials):\n",
    "    h=1/(1+np.exp(-wh@X))\n",
    "    y=1/(1+np.exp(-wo@h))\n",
    "    do=y*(1-y)*(Y-y)\n",
    "    dh=h*(1-h)*(wo.transpose()@do)\n",
    "    dwo=0.9*dwo+do@h.T \n",
    "    wo=wo+0.01*dwo\n",
    "    dwh=0.9*dwh+dh@X.T\n",
    "    wh=wh+0.01*dwh \n",
    "    err1=np.append(err1, np.sum(abs(Y-(y))))\n",
    "\n",
    "accuracy = np.sum(np.all(Y == np.round(y), axis = 0))\n",
    "accuracy =  ((accuracy/1024))*100;\n",
    "print(accuracy)\n",
    "plt.plot(err1)\n",
    "plt.xlabel(\"Number of trails\")\n",
    "plt.ylabel(\"Error\")\n",
    "\n"
   ]
  },
  {
   "cell_type": "code",
   "execution_count": 83,
   "metadata": {
    "colab": {
     "base_uri": "https://localhost:8080/",
     "height": 34
    },
    "id": "7vxSGyFtIaWd",
    "outputId": "08ad67f4-d433-44c8-d828-11ba720cccfd"
   },
   "outputs": [
    {
     "name": "stdout",
     "output_type": "stream",
     "text": [
      "94.39671228974393\n"
     ]
    }
   ],
   "source": [
    "print(err1[-1])"
   ]
  },
  {
   "cell_type": "markdown",
   "metadata": {
    "id": "OQZvdwukVz-K"
   },
   "source": [
    "2 hidden layers with 100 neurons\n"
   ]
  },
  {
   "cell_type": "code",
   "execution_count": 107,
   "metadata": {
    "colab": {
     "base_uri": "https://localhost:8080/",
     "height": 313
    },
    "id": "HI4sQRfJJL5H",
    "outputId": "f2b678ed-93fb-4e2e-b7ec-ad1a22e416fd"
   },
   "outputs": [
    {
     "name": "stdout",
     "output_type": "stream",
     "text": [
      "23.046875\n"
     ]
    },
    {
     "data": {
      "text/plain": [
       "Text(0, 0.5, 'Error')"
      ]
     },
     "execution_count": 107,
     "metadata": {
      "tags": []
     },
     "output_type": "execute_result"
    },
    {
     "data": {
      "image/png": "[encoded data removed]",
      "text/plain": [
       "<Figure size 432x288 with 1 Axes>"
      ]
     },
     "metadata": {
      "needs_background": "light",
      "tags": []
     },
     "output_type": "display_data"
    }
   ],
   "source": [
    "# 2 hidden  Layer\n",
    "\n",
    "#model specifications\n",
    "Ni=785; Nh=100; Nh1=100 ; N0=8\n",
    "\n",
    "#parameters and array intilization\n",
    "#adding a\n",
    "Ntrails=100; \n",
    "wh=np.random.randn(Nh,Ni);\n",
    "wh1=np.random.randn(Nh1,Nh);\n",
    "dwh=np.zeros(wh.shape);\n",
    "dwh1=np.zeros(wh1.shape);\n",
    "w0=np.random.randn(N0,Nh1);\n",
    "dw0=np.zeros(w0.shape)\n",
    "err2=np.array([])\n",
    "\n",
    "for trail in range(Ntrails):\n",
    "    h=1/(1+np.exp(-wh@X))\n",
    "    h1=1/(1+np.exp(-wh1@h))  \n",
    "    y=1/(1+np.exp(-w0@h1))\n",
    "   \n",
    "    d0=y*(1-y)*(Y-y)\n",
    "    dh1=h1*(1-h1)*(w0.transpose()@d0)\n",
    "    dh=h*(1-h)*(wh1.transpose()@dh1)\n",
    "    #update weights with momentum\n",
    "    dw0 = 0.9*dw0+d0@h1.T\n",
    "    dw0=d0@h1.T\n",
    "    w0=w0+0.01*dw0\n",
    "    dwh1=dh1@h.T\n",
    "    dwh1=0.9*dwh1+dh1@h.T\n",
    "    wh1=wh1+0.01*dwh1\n",
    "    dwh=dh@X.T\n",
    "    dwh=0.9*dwh+dh@X.T\n",
    "    wh=wh+0.01*dwh\n",
    "    err2=np.append(err2,np.sum(abs(Y-y)))\n",
    "\n",
    "accuracy = np.sum(np.all(Y == np.round(y), axis = 0))\n",
    "accuracy =  ((accuracy/1024))*100;\n",
    "print(accuracy)\n",
    "plt.plot(err2)\n",
    "plt.xlabel(\"Number of trails\")\n",
    "plt.ylabel(\"Error\")"
   ]
  },
  {
   "cell_type": "code",
   "execution_count": 109,
   "metadata": {
    "colab": {
     "base_uri": "https://localhost:8080/",
     "height": 34
    },
    "id": "ukqAIsSzJWHK",
    "outputId": "0af68dbc-322d-43b8-b7be-3b7146c437f3"
   },
   "outputs": [
    {
     "name": "stdout",
     "output_type": "stream",
     "text": [
      "1223.2695795983186\n"
     ]
    }
   ],
   "source": [
    "print(err2[-1])"
   ]
  },
  {
   "cell_type": "markdown",
   "metadata": {
    "id": "7SFJL7WQV46k"
   },
   "source": [
    "5 hidden layers with 128 neurons\n"
   ]
  },
  {
   "cell_type": "code",
   "execution_count": 108,
   "metadata": {
    "colab": {
     "base_uri": "https://localhost:8080/",
     "height": 313
    },
    "id": "pZAFlN5yJcJo",
    "outputId": "e449e8d0-b656-406c-b767-ccc061534b37"
   },
   "outputs": [
    {
     "name": "stdout",
     "output_type": "stream",
     "text": [
      "9.86328125\n"
     ]
    },
    {
     "data": {
      "text/plain": [
       "Text(0, 0.5, 'Error')"
      ]
     },
     "execution_count": 108,
     "metadata": {
      "tags": []
     },
     "output_type": "execute_result"
    },
    {
     "data": {
      "image/png": "[encoded data removed]",
      "text/plain": [
       "<Figure size 432x288 with 1 Axes>"
      ]
     },
     "metadata": {
      "needs_background": "light",
      "tags": []
     },
     "output_type": "display_data"
    }
   ],
   "source": [
    "#5 hidden LAYERS\n",
    "#model specifications\n",
    "Ni=785; Nh=128; Nh1=128 ; Nh2=128; Nh3=128; Nh4=128; N0=8\n",
    "\n",
    "#parameters and array intilization\n",
    "#adding a\n",
    "Ntrails=100; \n",
    "w0=np.random.randn(N0,Nh4);\n",
    "wh=np.random.randn(Nh,Ni);\n",
    "wh1=np.random.randn(Nh1,Nh);\n",
    "wh2=np.random.randn(Nh2,Nh1);\n",
    "wh3=np.random.randn(Nh3,Nh2);\n",
    "wh4=np.random.randn(Nh4,Nh3);\n",
    "dw0=np.zeros(w0.shape)\n",
    "dwh=np.zeros(wh.shape);\n",
    "dwh1=np.zeros(wh1.shape);\n",
    "dwh2=np.zeros(wh2.shape);\n",
    "dwh3=np.zeros(wh3.shape);\n",
    "dwh4=np.zeros(wh4.shape);\n",
    "err3=np.array([])\n",
    "\n",
    "for trial in range(Ntrials):\n",
    "    h=1/(1+np.exp(-wh@X))\n",
    "    h1=1/(1+np.exp(-wh1@h))\n",
    "    h2=1/(1+np.exp(-wh2@h1))\n",
    "    h3=1/(1+np.exp(-wh3@h2))\n",
    "    h4=1/(1+np.exp(-wh4@h3))\n",
    "    y=1/(1+np.exp(-w0@h4))\n",
    "    d0=y*(1-y)*(Y-y)\n",
    "    dw0=0.9*dw0+d0@h4.T\n",
    "    w0=w0+0.01*dw0\n",
    "    dh4=h4*(1-h4)*(w0.transpose()@d0)\n",
    "    dwh4=0.9*dwh4+dh4@h3.T\n",
    "    wh4=wh4+0.01*dwh4\n",
    "    dh3=h3*(1-h3)*(wh4.transpose()@dh4)\n",
    "    dwh3=0.9*dwh3+dh3@h2.T\n",
    "    wh3=wh3+0.01*dwh3\n",
    "    dh2=h2*(1-h2)*(wh3.transpose()@dh3)\n",
    "    dwh2=0.9*dwh2+dh2@h1.T\n",
    "    wh2=wh2+0.01*dwh2\n",
    "    dh1=h1*(1-h1)*(wh2.transpose()@dh2)\n",
    "    dwh1=0.9*dwh1+dh1@h.T\n",
    "    wh1=wh1+0.01*dwh1\n",
    "    dh=h*(1-h)*(wh1.transpose()@dh1)\n",
    "    dwh=0.9*dwh+dh@X.T\n",
    "    wh=wh+0.01*dwh\n",
    "    err3=np.append(err3,np.sum(abs(Y-y)))\n",
    "accuracy = np.sum(np.all(Y == np.round(y), axis = 0))\n",
    "accuracy =((accuracy/1024))*100;\n",
    "print(accuracy)\n",
    "plt.plot(err3)\n",
    "plt.xlabel(\"Number of trails\")\n",
    "plt.ylabel(\"Error\")"
   ]
  },
  {
   "cell_type": "code",
   "execution_count": 110,
   "metadata": {
    "colab": {
     "base_uri": "https://localhost:8080/",
     "height": 34
    },
    "id": "_kYrIpuTJuGo",
    "outputId": "906f4355-ecaa-4650-904f-fe90d5c618b2"
   },
   "outputs": [
    {
     "name": "stdout",
     "output_type": "stream",
     "text": [
      "1749.0001107910086\n"
     ]
    }
   ],
   "source": [
    "print(err3[-1])"
   ]
  },
  {
   "cell_type": "markdown",
   "metadata": {
    "id": "NCW1JGo0V9sW"
   },
   "source": [
    "plooting error learning curve for different layers"
   ]
  },
  {
   "cell_type": "code",
   "execution_count": 111,
   "metadata": {
    "colab": {
     "base_uri": "https://localhost:8080/",
     "height": 279
    },
    "id": "aWK4oJCFHEoY",
    "outputId": "123435a2-c73a-41ff-bd04-0cce87533aa1"
   },
   "outputs": [
    {
     "data": {
      "image/png": "[encoded data removed]",
      "text/plain": [
       "<Figure size 432x288 with 1 Axes>"
      ]
     },
     "metadata": {
      "needs_background": "light",
      "tags": []
     },
     "output_type": "display_data"
    }
   ],
   "source": [
    "import matplotlib.pyplot as plt\n",
    "plt.xlabel(\"Number of Trials\")\n",
    "plt.ylabel(\"Absolute Error\")\n",
    "plt.plot(err1)\n",
    "plt.plot(err2)\n",
    "plt.plot(err3)\n",
    "plt.legend(['HiddenLayers=1', 'HiddenLayers=2', 'HiddenLayers=5'], loc='upper right')\n",
    "plt.show()"
   ]
  },
  {
   "cell_type": "markdown",
   "metadata": {
    "id": "t0Ng-CEXWFWY"
   },
   "source": [
    "Training data with learning rate 0.001 and one hidden layer"
   ]
  },
  {
   "cell_type": "markdown",
   "metadata": {
    "id": "bVW6P-VEWR5p"
   },
   "source": []
  },
  {
   "cell_type": "code",
   "execution_count": 116,
   "metadata": {
    "colab": {
     "base_uri": "https://localhost:8080/",
     "height": 34
    },
    "id": "UPZHIxvjnMRS",
    "outputId": "70b9233c-a9df-4cd1-b444-8a9e877c23c7"
   },
   "outputs": [
    {
     "name": "stdout",
     "output_type": "stream",
     "text": [
      "68.06640625\n"
     ]
    }
   ],
   "source": [
    "#using different learning rate and one hidden layer with 100 neurons and alpha = 0.001\n",
    "#model specifications\n",
    "Ni=785; Nh=100; No=8\n",
    "\n",
    "#parameters and array intilization\n",
    "#adding a layer\n",
    "#np.random.seed(0)\n",
    "wh=np.random.randn(Nh, Ni);\n",
    "dwh= np.zeros(wh.shape)\n",
    "wo=np.random.randn(No,Nh) ;\n",
    "dwo=np.zeros(wo.shape)\n",
    "err1=np.array([])\n",
    "Ntrials=100\n",
    "for trial in range(Ntrials):\n",
    "    h=1/(1+np.exp(-wh@X))\n",
    "    y=1/(1+np.exp(-wo@h))\n",
    "    do=y*(1-y)*(Y-y)\n",
    "    dh=h*(1-h)*(wo.transpose()@do)\n",
    "    dwo=0.9*dwo+do@h.T \n",
    "    wo=wo+0.001*dwo\n",
    "    dwh=0.9*dwh+dh@X.T\n",
    "    wh=wh+0.001*dwh \n",
    "    err1=np.append(err1, np.sum(abs(Y-(y))))\n",
    "\n",
    "accuracy = np.sum(np.all(Y == np.round(y), axis = 0))\n",
    "accuracy =  ((accuracy/1024))*100;\n",
    "print(accuracy)\n",
    "\n",
    "\n",
    "\n"
   ]
  },
  {
   "cell_type": "code",
   "execution_count": 117,
   "metadata": {
    "colab": {
     "base_uri": "https://localhost:8080/",
     "height": 34
    },
    "id": "QzMcb4S7Md7N",
    "outputId": "b539716f-fa06-463c-dbb6-4b75fdfea4cd"
   },
   "outputs": [
    {
     "name": "stdout",
     "output_type": "stream",
     "text": [
      "537.1515460751999\n"
     ]
    }
   ],
   "source": [
    "print(err1[-1])"
   ]
  },
  {
   "cell_type": "markdown",
   "metadata": {
    "id": "Nww96kkDWOeL"
   },
   "source": [
    "Training data with learning rte 0.01 and one hidden layer"
   ]
  },
  {
   "cell_type": "code",
   "execution_count": 123,
   "metadata": {
    "colab": {
     "base_uri": "https://localhost:8080/",
     "height": 34
    },
    "id": "1yp6LpXeEE3U",
    "outputId": "4fcd0cc3-a6f5-4356-abc9-37dfa4fde3c7"
   },
   "outputs": [
    {
     "name": "stdout",
     "output_type": "stream",
     "text": [
      "78.02734375\n"
     ]
    }
   ],
   "source": [
    "#aplha=0.01\n",
    "#model specifications\n",
    "Ni=785; Nh=100; No=8\n",
    "\n",
    "#parameters and array intilization\n",
    "#adding a layer\n",
    "#np.random.seed(0)\n",
    "wh=np.random.randn(Nh, Ni);\n",
    "dwh= np.zeros(wh.shape)\n",
    "wo=np.random.randn(No,Nh) ;\n",
    "dwo=np.zeros(wo.shape)\n",
    "err2=np.array([])\n",
    "Ntrials=100\n",
    "for trial in range(Ntrials):\n",
    "    h=1/(1+np.exp(-wh@X))\n",
    "    y=1/(1+np.exp(-wo@h))\n",
    "    do=y*(1-y)*(Y-y)\n",
    "    dh=h*(1-h)*(wo.transpose()@do)\n",
    "    dwo=0.9*dwo+do@h.T \n",
    "    wo=wo+0.01*dwo\n",
    "    dwh=0.9*dwh+dh@X.T\n",
    "    wh=wh+0.01*dwh \n",
    "    err2=np.append(err2, np.sum(abs(Y-(y))))\n",
    "\n",
    "accuracy = np.sum(np.all(Y == np.round(y), axis = 0))\n",
    "accuracy =  ((accuracy/1024))*100;\n",
    "print(accuracy)\n",
    "\n",
    "\n"
   ]
  },
  {
   "cell_type": "markdown",
   "metadata": {
    "id": "C7sz29fNWbni"
   },
   "source": [
    "Training data with learning rate 0.000001 and one hidden layer"
   ]
  },
  {
   "cell_type": "code",
   "execution_count": 125,
   "metadata": {
    "colab": {
     "base_uri": "https://localhost:8080/",
     "height": 34
    },
    "id": "YzfcCmcpEeF5",
    "outputId": "6e33e5f5-adeb-4956-d1a7-aff0ae2ed86f"
   },
   "outputs": [
    {
     "name": "stdout",
     "output_type": "stream",
     "text": [
      "7.32421875\n"
     ]
    }
   ],
   "source": [
    "#alpha=0.000001\n",
    "#model specifications\n",
    "Ni=785; Nh=100; \n",
    "\n",
    "#parameters and array intilization\n",
    "#adding a layer\n",
    "#np.random.seed(0)\n",
    "wh=np.random.randn(Nh, Ni);\n",
    "dwh= np.zeros(wh.shape)\n",
    "wo=np.random.randn(No,Nh) ;\n",
    "dwo=np.zeros(wo.shape)\n",
    "err3=np.array([])\n",
    "Ntrials=100\n",
    "for trial in range(Ntrials):\n",
    "    h=1/(1+np.exp(-wh@X))\n",
    "    y=1/(1+np.exp(-wo@h))\n",
    "    do=y*(1-y)*(Y-y)\n",
    "    dh=h*(1-h)*(wo.transpose()@do)\n",
    "    dwo=0.9*dwo+do@h.T \n",
    "    wo=wo+0.00001*dwo\n",
    "    dwh=0.9*dwh+dh@X.T\n",
    "    wh=wh+0.00001*dwh \n",
    "    err3=np.append(err3, np.sum(abs(Y-(y))))\n",
    "\n",
    "accuracy = np.sum(np.all(Y == np.round(y), axis = 0))\n",
    "accuracy =  ((accuracy/1024))*100;\n",
    "print(accuracy)\n",
    "\n"
   ]
  },
  {
   "cell_type": "code",
   "execution_count": 124,
   "metadata": {
    "colab": {
     "base_uri": "https://localhost:8080/",
     "height": 34
    },
    "id": "GwraYI1gMgOM",
    "outputId": "7fc83501-0958-4532-83b2-75004fac1421"
   },
   "outputs": [
    {
     "name": "stdout",
     "output_type": "stream",
     "text": [
      "274.96778704732367\n"
     ]
    }
   ],
   "source": [
    "print(err2[-1])"
   ]
  },
  {
   "cell_type": "code",
   "execution_count": 126,
   "metadata": {
    "colab": {
     "base_uri": "https://localhost:8080/",
     "height": 34
    },
    "id": "rVIYlJQOMiFI",
    "outputId": "21b6ff59-d375-460b-fd86-83afe02a5370"
   },
   "outputs": [
    {
     "name": "stdout",
     "output_type": "stream",
     "text": [
      "1707.4978104158558\n"
     ]
    }
   ],
   "source": [
    "print(err3[-1])"
   ]
  },
  {
   "cell_type": "markdown",
   "metadata": {
    "id": "aDyLJ9TcWeXS"
   },
   "source": [
    "plotting learning curve for error for different learning rates\n"
   ]
  },
  {
   "cell_type": "code",
   "execution_count": 127,
   "metadata": {
    "colab": {
     "base_uri": "https://localhost:8080/",
     "height": 279
    },
    "id": "a55AFpy7Kcaq",
    "outputId": "fd00b884-5139-4f5c-b8d9-c879bbe914b1"
   },
   "outputs": [
    {
     "data": {
      "image/png": "[encoded data removed]",
      "text/plain": [
       "<Figure size 432x288 with 1 Axes>"
      ]
     },
     "metadata": {
      "needs_background": "light",
      "tags": []
     },
     "output_type": "display_data"
    }
   ],
   "source": [
    "import matplotlib.pyplot as plt\n",
    "plt.xlabel(\"Number of Trials\")\n",
    "plt.ylabel(\"Absolute Error\")\n",
    "plt.plot(err1)\n",
    "plt.plot(err2)\n",
    "plt.plot(err3)\n",
    "plt.legend(['alpha=0.001', 'alpha=0.01', 'alpha=0.000001'], loc='upper right')\n",
    "plt.show()"
   ]
  },
  {
   "cell_type": "markdown",
   "metadata": {
    "id": "VFqv_eC2WmbV"
   },
   "source": [
    "training data for 10 neurons and with one hidden layer"
   ]
  },
  {
   "cell_type": "code",
   "execution_count": 129,
   "metadata": {
    "colab": {
     "base_uri": "https://localhost:8080/",
     "height": 34
    },
    "id": "0XJSHOeQIocK",
    "outputId": "761f3635-8355-4909-852a-32c00b67f4f6"
   },
   "outputs": [
    {
     "name": "stdout",
     "output_type": "stream",
     "text": [
      "68.84765625\n"
     ]
    }
   ],
   "source": [
    "#No of neurons=10\n",
    "Ni=785; Nh=10;No=8 \n",
    "\n",
    "#parameters and array intilization\n",
    "#adding a layer\n",
    "#np.random.seed(0)\n",
    "wh=np.random.randn(Nh, Ni);\n",
    "dwh= np.zeros(wh.shape)\n",
    "wo=np.random.randn(No,Nh) ;\n",
    "dwo=np.zeros(wo.shape)\n",
    "err1=np.array([])\n",
    "Ntrials=100\n",
    "for trial in range(Ntrials):\n",
    "    h=1/(1+np.exp(-wh@X))\n",
    "    y=1/(1+np.exp(-wo@h))\n",
    "    do=y*(1-y)*(Y-y)\n",
    "    dh=h*(1-h)*(wo.transpose()@do)\n",
    "    dwo=0.9*dwo+do@h.T \n",
    "    wo=wo+0.01*dwo\n",
    "    dwh=0.9*dwh+dh@X.T\n",
    "    wh=wh+0.01*dwh \n",
    "    err1=np.append(err3, np.sum(abs(Y-(y))))\n",
    "\n",
    "accuracy = np.sum(np.all(Y == np.round(y), axis = 0))\n",
    "accuracy =  ((accuracy/1024))*100;\n",
    "print(accuracy)"
   ]
  },
  {
   "cell_type": "code",
   "execution_count": 130,
   "metadata": {
    "colab": {
     "base_uri": "https://localhost:8080/",
     "height": 34
    },
    "id": "ECJnsJtMMkmQ",
    "outputId": "d16f3241-dbeb-40bd-a3fc-c1900b4d53aa"
   },
   "outputs": [
    {
     "name": "stdout",
     "output_type": "stream",
     "text": [
      "564.9354112625986\n"
     ]
    }
   ],
   "source": [
    "print(err1[-1])"
   ]
  },
  {
   "cell_type": "markdown",
   "metadata": {
    "id": "2_dPya03Ws3R"
   },
   "source": [
    "training data for 100 neurons and with one hidden layer"
   ]
  },
  {
   "cell_type": "code",
   "execution_count": 132,
   "metadata": {
    "colab": {
     "base_uri": "https://localhost:8080/",
     "height": 34
    },
    "id": "HJB2PEPdLsWh",
    "outputId": "718d4b46-7e08-40cd-810b-328d5bfa7e73"
   },
   "outputs": [
    {
     "name": "stdout",
     "output_type": "stream",
     "text": [
      "93.359375\n"
     ]
    }
   ],
   "source": [
    "#no of neuron=100\n",
    "#model specifications\n",
    "Ni=785; Nh=100; No=8\n",
    "\n",
    "#parameters and array intilization\n",
    "#adding a layer\n",
    "#np.random.seed(0)\n",
    "wh=np.random.randn(Nh, Ni);\n",
    "dwh= np.zeros(wh.shape)\n",
    "wo=np.random.randn(No,Nh) ;\n",
    "dwo=np.zeros(wo.shape)\n",
    "err2=np.array([])\n",
    "Ntrials=100\n",
    "for trial in range(Ntrials):\n",
    "    h=1/(1+np.exp(-wh@X))\n",
    "    y=1/(1+np.exp(-wo@h))\n",
    "    do=y*(1-y)*(Y-y)\n",
    "    dh=h*(1-h)*(wo.transpose()@do)\n",
    "    dwo=0.9*dwo+do@h.T \n",
    "    wo=wo+0.01*dwo\n",
    "    dwh=0.9*dwh+dh@X.T\n",
    "    wh=wh+0.01*dwh \n",
    "    err2=np.append(err2, np.sum(abs(Y-(y))))\n",
    "\n",
    "accuracy = np.sum(np.all(Y == np.round(y), axis = 0))\n",
    "accuracy =  ((accuracy/1024))*100;\n",
    "print(accuracy)\n"
   ]
  },
  {
   "cell_type": "code",
   "execution_count": 133,
   "metadata": {
    "colab": {
     "base_uri": "https://localhost:8080/",
     "height": 34
    },
    "id": "rhm9I2lTMmU5",
    "outputId": "1d16710d-8ac3-4855-84c0-81d6f48a00fd"
   },
   "outputs": [
    {
     "name": "stdout",
     "output_type": "stream",
     "text": [
      "132.6368532598984\n"
     ]
    }
   ],
   "source": [
    "print(err2[-1])"
   ]
  },
  {
   "cell_type": "markdown",
   "metadata": {
    "id": "zPhD4so6WvFS"
   },
   "source": [
    "training data for 1000 neurons and with one hidden layer"
   ]
  },
  {
   "cell_type": "code",
   "execution_count": 134,
   "metadata": {
    "colab": {
     "base_uri": "https://localhost:8080/",
     "height": 34
    },
    "id": "RPj0CliuL-C0",
    "outputId": "7023c0af-bb12-4a13-e86d-d66e95f72138"
   },
   "outputs": [
    {
     "name": "stdout",
     "output_type": "stream",
     "text": [
      "34.5703125\n"
     ]
    }
   ],
   "source": [
    "#no of neurons =1000\n",
    "#model specifications\n",
    "Ni=785; Nh=1000; No=8\n",
    "\n",
    "#parameters and array intilization\n",
    "#adding a layer\n",
    "#np.random.seed(0)\n",
    "wh=np.random.randn(Nh, Ni);\n",
    "dwh= np.zeros(wh.shape)\n",
    "wo=np.random.randn(No,Nh) ;\n",
    "dwo=np.zeros(wo.shape)\n",
    "err3=np.array([])\n",
    "Ntrials=100\n",
    "for trial in range(Ntrials):\n",
    "    h=1/(1+np.exp(-wh@X))\n",
    "    y=1/(1+np.exp(-wo@h))\n",
    "    do=y*(1-y)*(Y-y)\n",
    "    dh=h*(1-h)*(wo.transpose()@do)\n",
    "    dwo=0.9*dwo+do@h.T \n",
    "    wo=wo+0.01*dwo\n",
    "    dwh=0.9*dwh+dh@X.T\n",
    "    wh=wh+0.01*dwh \n",
    "    err3=np.append(err3, np.sum(abs(Y-(y))))\n",
    "\n",
    "accuracy = np.sum(np.all(Y == np.round(y), axis = 0))\n",
    "accuracy =  ((accuracy/1024))*100;\n",
    "print(accuracy)\n"
   ]
  },
  {
   "cell_type": "code",
   "execution_count": 135,
   "metadata": {
    "colab": {
     "base_uri": "https://localhost:8080/",
     "height": 34
    },
    "id": "92jO4xGbMoMb",
    "outputId": "f35da712-6cd5-4d09-d40b-278f201f3300"
   },
   "outputs": [
    {
     "name": "stdout",
     "output_type": "stream",
     "text": [
      "741.0800425130476\n"
     ]
    }
   ],
   "source": [
    "print(err3[-1])"
   ]
  },
  {
   "cell_type": "markdown",
   "metadata": {
    "id": "6O9MRVuKWxGD"
   },
   "source": [
    "plotting learning curve for different no of neurons on hidden layer\n"
   ]
  },
  {
   "cell_type": "code",
   "execution_count": 136,
   "metadata": {
    "colab": {
     "base_uri": "https://localhost:8080/",
     "height": 279
    },
    "id": "V2ZYLN0nMqhU",
    "outputId": "7a72d845-ab07-4046-9f56-04480f238bcc"
   },
   "outputs": [
    {
     "data": {
      "image/png": "[encoded data removed]",
      "text/plain": [
       "<Figure size 432x288 with 1 Axes>"
      ]
     },
     "metadata": {
      "needs_background": "light",
      "tags": []
     },
     "output_type": "display_data"
    }
   ],
   "source": [
    "import matplotlib.pyplot as plt\n",
    "plt.xlabel(\"Number of Trials\")\n",
    "plt.ylabel(\"Absolute Error\")\n",
    "plt.plot(err1)\n",
    "plt.plot(err2)\n",
    "plt.plot(err3)\n",
    "plt.legend(['Neurons=10', 'Neurons=100', 'Neurons=1000'], loc='upper right')\n",
    "plt.show()"
   ]
  },
  {
   "cell_type": "markdown",
   "metadata": {
    "id": "TdiuW1RtPVQZ"
   },
   "source": [
    "Ridge regression"
   ]
  },
  {
   "cell_type": "code",
   "execution_count": 215,
   "metadata": {
    "colab": {
     "base_uri": "https://localhost:8080/",
     "height": 316
    },
    "id": "plcTnamXOfBK",
    "outputId": "d76649a0-7f86-4270-e09c-bd96b9a4fd11"
   },
   "outputs": [
    {
     "name": "stderr",
     "output_type": "stream",
     "text": [
      "/usr/local/lib/python3.6/dist-packages/ipykernel_launcher.py:17: RuntimeWarning: overflow encountered in exp\n"
     ]
    },
    {
     "name": "stdout",
     "output_type": "stream",
     "text": [
      "72.8515625\n"
     ]
    },
    {
     "data": {
      "text/plain": [
       "[<matplotlib.lines.Line2D at 0x7f22de1f74e0>]"
      ]
     },
     "execution_count": 215,
     "metadata": {
      "tags": []
     },
     "output_type": "execute_result"
    },
    {
     "data": {
      "image/png": "[encoded data removed]",
      "text/plain": [
       "<Figure size 432x288 with 1 Axes>"
      ]
     },
     "metadata": {
      "needs_background": "light",
      "tags": []
     },
     "output_type": "display_data"
    }
   ],
   "source": [
    "#1 hidden layer \n",
    "#ridge regression\n",
    "\n",
    "#model specifications\n",
    "Ni=785; Nh=100; No=8 ; lambd = 0.01\n",
    "\n",
    "#parameters and array intilization\n",
    "#adding a layer\n",
    "wh=np.random.randn(Nh, Ni);\n",
    "dwh= np.zeros(wh.shape)\n",
    "wo=np.random.randn(No,Nh) ;\n",
    "dwo=np.zeros(wo.shape)\n",
    "err1=np.array([])\n",
    "Ntrials=100\n",
    "for trial in range(Ntrials):\n",
    "    h=1/(1+np.exp(-wh@X))\n",
    "    y=1/(1+np.exp(-wo@h))\n",
    "    do=y*(1-y)*(Y-y)\n",
    "    dh=h*(1-h)*(wo.transpose()@do)\n",
    "    dwo=0.9*dwo+do@h.T \n",
    "    wo=wo+0.01*dwo +2*lambd*wo\n",
    "    dwh=0.9*dwh+dh@X.T\n",
    "    wh=wh+0.01*dwh +2*lambd*wh\n",
    "    err1=np.append(err1, np.sum(abs(Y-(y))) + (np.sum(np.square(wo)) + np.sum(np.square(wh)))*(lambd/2))\n",
    "\n",
    "accuracy = np.sum(np.all(Y == np.round(y), axis = 0))\n",
    "accuracy =  ((accuracy/1024))*100;\n",
    "print(accuracy)\n",
    "plt.plot(err1)"
   ]
  },
  {
   "cell_type": "markdown",
   "metadata": {
    "id": "dzKM1yVkaDDo"
   },
   "source": [
    "Ridge regression on test data"
   ]
  },
  {
   "cell_type": "code",
   "execution_count": 216,
   "metadata": {
    "colab": {
     "base_uri": "https://localhost:8080/",
     "height": 102
    },
    "id": "7KHuEJqKZhzd",
    "outputId": "1f3f3fc9-f942-4c90-aa87-5ee4981c09bb"
   },
   "outputs": [
    {
     "name": "stdout",
     "output_type": "stream",
     "text": [
      "(8, 501)\n",
      "365.4225098532218\n",
      "24.90234375\n"
     ]
    },
    {
     "name": "stderr",
     "output_type": "stream",
     "text": [
      "/usr/local/lib/python3.6/dist-packages/ipykernel_launcher.py:2: RuntimeWarning: overflow encountered in exp\n",
      "  \n"
     ]
    }
   ],
   "source": [
    "h_test=1/(1+np.exp(-wh@x_test))\n",
    "y_pred_test=1/(1+np.exp(-wo@h_test))\n",
    "print(y_pred_test.shape)\n",
    "err1=np.sum(abs(y_test_binary-y_pred_test))\n",
    "print(err1)\n",
    "accuracy = np.sum(np.all(y_test_binary== np.round(y_pred_test), axis = 0))\n",
    "accuracy =  ((accuracy/1024))*100;\n",
    "print(accuracy)"
   ]
  },
  {
   "cell_type": "markdown",
   "metadata": {
    "id": "QmanN9bDZgys"
   },
   "source": []
  },
  {
   "cell_type": "code",
   "execution_count": 175,
   "metadata": {
    "colab": {
     "base_uri": "https://localhost:8080/",
     "height": 34
    },
    "id": "co8gZ6LQ2bB1",
    "outputId": "4cd38e74-a474-42d4-93f4-d7c6a2437be5"
   },
   "outputs": [
    {
     "name": "stdout",
     "output_type": "stream",
     "text": [
      "21796.350030348367\n"
     ]
    }
   ],
   "source": [
    "print(err1[-1])"
   ]
  },
  {
   "cell_type": "markdown",
   "metadata": {
    "id": "QBgK4jlgPRIm"
   },
   "source": [
    "Performing LASSO on traing data"
   ]
  },
  {
   "cell_type": "code",
   "execution_count": 209,
   "metadata": {
    "colab": {
     "base_uri": "https://localhost:8080/",
     "height": 299
    },
    "id": "ft7TuQPf1Ljk",
    "outputId": "937b1b01-8078-43fa-f7d4-b42bf2d71912"
   },
   "outputs": [
    {
     "name": "stdout",
     "output_type": "stream",
     "text": [
      "76.07421875\n"
     ]
    },
    {
     "data": {
      "text/plain": [
       "[<matplotlib.lines.Line2D at 0x7f22dda93b70>]"
      ]
     },
     "execution_count": 209,
     "metadata": {
      "tags": []
     },
     "output_type": "execute_result"
    },
    {
     "data": {
      "image/png": "[encoded data removed]",
      "text/plain": [
       "<Figure size 432x288 with 1 Axes>"
      ]
     },
     "metadata": {
      "needs_background": "light",
      "tags": []
     },
     "output_type": "display_data"
    }
   ],
   "source": [
    "#LASSO regression \n",
    "#model specifications\n",
    "Ni=785; Nh=100; No=8 ; lambd = 0.001\n",
    "\n",
    "#parameters and array intilization\n",
    "#adding a layer\n",
    "wh=np.random.randn(Nh, Ni);\n",
    "dwh= np.zeros(wh.shape)\n",
    "wo=np.random.randn(No,Nh) ;\n",
    "dwo=np.zeros(wo.shape)\n",
    "err2=np.array([])\n",
    "Ntrials=100\n",
    "for trial in range(Ntrials):\n",
    "    h=1/(1+np.exp(-wh@X))\n",
    "    y=1/(1+np.exp(-wo@h))\n",
    "    do=y*(1-y)*(Y-y)\n",
    "    dh=h*(1-h)*(wo.transpose()@do)\n",
    "    dwo=0.9*dwo+do@h.T \n",
    "    wo=wo+0.01*dwo +lambd\n",
    "    dwh=0.9*dwh+dh@X.T\n",
    "    wh=wh+0.01*dwh +lambd\n",
    "    err2=np.append(err2, np.sum(abs(Y-(y))) + (lambd/2) * (np.sum(np.abs(wo)) +np.sum(np.abs(wh))))\n",
    "accuracy = np.sum(np.all(Y == np.round(y), axis = 0))\n",
    "accuracy =  ((accuracy/1024))*100;\n",
    "print(accuracy)\n",
    "plt.plot(err2)"
   ]
  },
  {
   "cell_type": "markdown",
   "metadata": {
    "id": "t0P2HjG9aHRH"
   },
   "source": [
    "Lasso on Test data"
   ]
  },
  {
   "cell_type": "code",
   "execution_count": 210,
   "metadata": {
    "colab": {
     "base_uri": "https://localhost:8080/",
     "height": 68
    },
    "id": "Ts0bvXDtZTAH",
    "outputId": "6e3acb8c-71fa-459a-e601-8dc68fbc4e66"
   },
   "outputs": [
    {
     "name": "stdout",
     "output_type": "stream",
     "text": [
      "(8, 501)\n",
      "300.30981519621906\n",
      "28.7109375\n"
     ]
    }
   ],
   "source": [
    "h_test=1/(1+np.exp(-wh@x_test))\n",
    "y_pred_test=1/(1+np.exp(-wo@h_test))\n",
    "print(y_pred_test.shape)\n",
    "err1=np.sum(abs(y_test_binary-y_pred_test))\n",
    "print(err1)\n",
    "accuracy = np.sum(np.all(y_test_binary== np.round(y_pred_test), axis = 0))\n",
    "accuracy =  ((accuracy/1024))*100;\n",
    "print(accuracy)"
   ]
  },
  {
   "cell_type": "markdown",
   "metadata": {
    "id": "7pBqZ7hQZN8z"
   },
   "source": []
  },
  {
   "cell_type": "code",
   "execution_count": 173,
   "metadata": {
    "colab": {
     "base_uri": "https://localhost:8080/",
     "height": 34
    },
    "id": "pvyoCNaD2boT",
    "outputId": "414fc1ab-c72c-4c6e-ea32-bf91d0d21e0f"
   },
   "outputs": [
    {
     "name": "stdout",
     "output_type": "stream",
     "text": [
      "140.48074982952437\n"
     ]
    }
   ],
   "source": [
    "print(err2[-1])"
   ]
  },
  {
   "cell_type": "markdown",
   "metadata": {
    "id": "-szl6uTRPMv-"
   },
   "source": [
    "plotting error for ridge and LASSO"
   ]
  },
  {
   "cell_type": "code",
   "execution_count": 174,
   "metadata": {
    "colab": {
     "base_uri": "https://localhost:8080/",
     "height": 279
    },
    "id": "1sariZp-2i2Q",
    "outputId": "b063a019-a859-4ffa-8a5a-b8510b89053c"
   },
   "outputs": [
    {
     "data": {
      "image/png": "[encoded data removed]",
      "text/plain": [
       "<Figure size 432x288 with 1 Axes>"
      ]
     },
     "metadata": {
      "needs_background": "light",
      "tags": []
     },
     "output_type": "display_data"
    }
   ],
   "source": [
    "import matplotlib.pyplot as plt\n",
    "plt.xlabel(\"Number of Trials\")\n",
    "plt.ylabel(\"Error\")\n",
    "plt.plot(err1)\n",
    "plt.plot(err2)\n",
    "plt.legend([' Ridge Regression', 'LASSO'], loc='upper right')\n",
    "plt.show()"
   ]
  },
  {
   "cell_type": "markdown",
   "metadata": {
    "id": "OVa_B1n_PIyx"
   },
   "source": [
    "Testing model on test data\n"
   ]
  },
  {
   "cell_type": "code",
   "execution_count": 203,
   "metadata": {
    "colab": {
     "base_uri": "https://localhost:8080/",
     "height": 68
    },
    "id": "ZhHgnVYF7SHM",
    "outputId": "aefab6a9-aa6d-43bc-e96b-93cf943e4996"
   },
   "outputs": [
    {
     "name": "stdout",
     "output_type": "stream",
     "text": [
      "(8, 501)\n",
      "253.17553665460753\n",
      "33.30078125\n"
     ]
    }
   ],
   "source": [
    "#testing\n",
    "h_test=1/(1+np.exp(-wh@x_test))\n",
    "y_pred_test=1/(1+np.exp(-wo@h_test))\n",
    "print(y_pred_test.shape)\n",
    "err1=np.sum(abs(y_test_binary-y_pred_test))\n",
    "print(err1)\n",
    "accuracy = np.sum(np.all(y_test_binary== np.round(y_pred_test), axis = 0))\n",
    "accuracy =  ((accuracy/1024))*100;\n",
    "print(accuracy)\n"
   ]
  },
  {
   "cell_type": "markdown",
   "metadata": {
    "id": "wiVMB6R3PER4"
   },
   "source": [
    "Adding noise to test data"
   ]
  },
  {
   "cell_type": "code",
   "execution_count": 204,
   "metadata": {
    "colab": {
     "base_uri": "https://localhost:8080/",
     "height": 51
    },
    "id": "IeSVsvQCPqgW",
    "outputId": "cb1b9b8e-e26d-44d9-fd71-34cbad3693f8"
   },
   "outputs": [
    {
     "name": "stdout",
     "output_type": "stream",
     "text": [
      "646.2928591828852\n",
      "13.37890625\n"
     ]
    }
   ],
   "source": [
    "#adding noise\n",
    "\n",
    "# Blur \n",
    "x_test_noise = cv2.GaussianBlur(x_test,(5,5), 0)\n",
    "h_test_noise=1/(1+np.exp(-wh@x_test_noise))\n",
    "y_test_predicted_noise=1/(1+np.exp(-wo@h_test_noise))\n",
    "errnoise=np.sum(abs(y_test_binary-y_test_predicted_noise))\n",
    "print(errnoise)\n",
    "accuracy = np.sum(np.all(y_test_binary== np.round(y_test_predicted_noise), axis = 0))\n",
    "accuracy =  ((accuracy/1024))*100;\n",
    "print(accuracy)"
   ]
  },
  {
   "cell_type": "code",
   "execution_count": null,
   "metadata": {
    "id": "EfTCaIFJ6_nz"
   },
   "outputs": [],
   "source": []
  },
  {
   "cell_type": "markdown",
   "metadata": {
    "id": "sErFm8l_L5hr"
   },
   "source": []
  }
 ],
 "metadata": {
  "colab": {
   "collapsed_sections": [],
   "name": "Untitled",
   "provenance": []
  },
  "kernelspec": {
   "display_name": "Python 3",
   "language": "python",
   "name": "python3"
  },
  "language_info": {
   "codemirror_mode": {
    "name": "ipython",
    "version": 3
   },
   "file_extension": ".py",
   "mimetype": "text/x-python",
   "name": "python",
   "nbconvert_exporter": "python",
   "pygments_lexer": "ipython3",
   "version": "3.8.5"
  }
 },
 "nbformat": 4,
 "nbformat_minor": 1
}
